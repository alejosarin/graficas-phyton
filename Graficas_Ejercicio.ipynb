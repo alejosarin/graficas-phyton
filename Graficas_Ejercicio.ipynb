{
  "nbformat": 4,
  "nbformat_minor": 0,
  "metadata": {
    "colab": {
      "provenance": [],
      "authorship_tag": "ABX9TyNoazv62oEuBhR0pCUXQElU",
      "include_colab_link": true
    },
    "kernelspec": {
      "name": "python3",
      "display_name": "Python 3"
    },
    "language_info": {
      "name": "python"
    }
  },
  "cells": [
    {
      "cell_type": "markdown",
      "metadata": {
        "id": "view-in-github",
        "colab_type": "text"
      },
      "source": [
        "<a href=\"https://colab.research.google.com/github/alejosarin/graficas-phyton/blob/main/Graficas_Ejercicio.ipynb\" target=\"_parent\"><img src=\"https://colab.research.google.com/assets/colab-badge.svg\" alt=\"Open In Colab\"/></a>"
      ]
    },
    {
      "cell_type": "code",
      "source": [],
      "metadata": {
        "id": "6j-PCnbBKAqU"
      },
      "execution_count": null,
      "outputs": []
    },
    {
      "cell_type": "code",
      "source": [
        "#importamos la libreria matplotlib y numpy y le asignamos un alias \n",
        "import numpy as np \n",
        "import matplotlib.pyplot as plt"
      ],
      "metadata": {
        "id": "Pal8ZESjKWE-"
      },
      "execution_count": 2,
      "outputs": []
    },
    {
      "cell_type": "markdown",
      "source": [
        "# 1) Funciones"
      ],
      "metadata": {
        "id": "IMfd1LsxKime"
      }
    },
    {
      "cell_type": "code",
      "execution_count": 7,
      "metadata": {
        "colab": {
          "base_uri": "https://localhost:8080/",
          "height": 514
        },
        "id": "x2KQUirbJO3c",
        "outputId": "05557498-7898-44f9-e2f3-151adbfaf4f5"
      },
      "outputs": [
        {
          "name": "stdout",
          "output_type": "stream",
          "text": [
            "--------------------------------------------------------------------\n",
            "--------------Bienvenido a la graficadora de funciones--------------\n",
            "--------------------------------------------------------------------\n",
            "1. Funcion lineal\n",
            "2. Funcion Cuadratica\n",
            "3. Funcion Cubica\n",
            "4. Funcion Expotencial\n",
            "5. Funcion Logaritmica\n",
            "6. Funcion Trigonometrica\n",
            "Digite la funcion1\n",
            "Digite el valor de la pendiente: 4\n",
            "Digite el valor del punto de corte con el eje y: 4\n"
          ]
        },
        {
          "output_type": "display_data",
          "data": {
            "text/plain": [
              "<Figure size 432x288 with 1 Axes>"
            ],
            "image/png": "[encoded data removed]"
          },
          "metadata": {
            "needs_background": "light"
          }
        }
      ],
      "source": [
        "#programa para graficar una linea recta , con base en la ecuacion y=mx+b\n",
        "# m es la pendiente de la recta \n",
        "# b es el punto de corte con el eje y \n",
        "\n",
        "#numero de puntos a graficar\n",
        "N=100\n",
        "\n",
        "#funcion para calcular los valores de y \n",
        "def funcion_lineal(m,b,x):\n",
        "  return m*x+b\n",
        "\n",
        "#input\n",
        "print(\"--------------------------------------------------------------------\")\n",
        "print(\"--------------Bienvenido a la graficadora de funciones--------------\")\n",
        "print(\"--------------------------------------------------------------------\")\n",
        "\n",
        "print(\"1. Funcion lineal\")\n",
        "print(\"2. Funcion Cuadratica\")\n",
        "print(\"3. Funcion Cubica\")\n",
        "print(\"4. Funcion Expotencial\")\n",
        "print(\"5. Funcion Logaritmica\")\n",
        "print(\"6. Funcion Trigonometrica\")\n",
        "h=int(input(\"Digite la funcion\"))\n",
        "\n",
        "#cual funcion \n",
        "#processing - graphication \n",
        "if(h==1):\n",
        "  m=int(input(\"Digite el valor de la pendiente: \"))\n",
        "  b=int(input(\"Digite el valor del punto de corte con el eje y: \"))\n",
        "  x=np.linspace(-10,10, num=N)\n",
        "  y= funcion_lineal(m,b,x)\n",
        "  plt.plot(x,y,color=\"r\")\n",
        "  plt.xlabel(\"x\")\n",
        "  plt.ylabel(\"y\")\n",
        "  plt.title(\"Funcion lineal: y=mx+b\")\n",
        "  plt.grid()\n",
        "  plt.axhline(y=0,color=\"b\")\n",
        "  plt.axvline(x=0, color=\"b\")\n",
        "  plt.show()"
      ]
    }
  ]
}